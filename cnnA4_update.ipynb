{
 "cells": [
  {
   "cell_type": "code",
   "execution_count": 2,
   "metadata": {
    "colab": {
     "base_uri": "https://localhost:8080/"
    },
    "id": "0zOJz1_SRuJl",
    "outputId": "759eae75-7d87-45e9-93fa-ceabbe6818cc"
   },
   "outputs": [],
   "source": [
    "%matplotlib inline\n",
    "from matplotlib import pyplot as plt\n",
    "import numpy as np\n",
    "import collections\n",
    "\n",
    "import torch\n",
    "import torch.nn as nn\n",
    "import torch.nn.functional as F\n",
    "import torch.optim as optim\n",
    "\n",
    "torch.set_printoptions(edgeitems=2)\n",
    "torch.manual_seed(42)\n",
    "import random"
   ]
  },
  {
   "cell_type": "markdown",
   "metadata": {
    "id": "L9G5gTkvRuJo"
   },
   "source": [
    "# Classifying objects\n",
    "\n",
    "In the following, we will use the old-school CIFAR-10 dataset that contains low-resolution pictures of objects of 10 categories. This - and other - dataset is available as part of the `torchvision` package, which you should install."
   ]
  },
  {
   "cell_type": "code",
   "execution_count": 3,
   "metadata": {
    "id": "LbiOFC4XRuJp"
   },
   "outputs": [],
   "source": [
    "class_names = ['airplane','automobile','bird','cat','deer',\n",
    "               'dog','frog','horse','ship','truck']"
   ]
  },
  {
   "cell_type": "code",
   "execution_count": 4,
   "metadata": {
    "colab": {
     "base_uri": "https://localhost:8080/",
     "height": 85,
     "referenced_widgets": [
      "284bd86b5c114c8fb3d460e168056250",
      "352dfda91b0143868fa51ca5e68464e4",
      "784b3d86676d4958987d3e753e6b7956",
      "d1be312cfac948b8a35028396277bf18",
      "8b89e11329d0497390cb3028d718f4ff",
      "9522e120193144b1bf8fef9b1e835378",
      "764e1cdd37be45c687d1e4391819190b",
      "5534ad73a843429ba70fe0a8144897d1",
      "3a86d3a526a9477389499cb02efe6d23",
      "e54c45c8dc794ca284eceaf71eac04d6",
      "fbcaabe6f6dc4cd2ab0e76836b6b82e1"
     ]
    },
    "id": "agrjtv65RuJq",
    "outputId": "fb1e6b6d-3ff9-4c8e-bf72-cff3f8fd0e28"
   },
   "outputs": [
    {
     "name": "stderr",
     "output_type": "stream",
     "text": [
      "C:\\Users\\DL_Simulcom2\\AppData\\Roaming\\Python\\Python38\\site-packages\\torchvision\\io\\image.py:11: UserWarning: Failed to load image Python extension: Could not find module 'C:\\Users\\DL_Simulcom2\\AppData\\Roaming\\Python\\Python38\\site-packages\\torchvision\\image.pyd' (or one of its dependencies). Try using the full path with constructor syntax.\n",
      "  warn(f\"Failed to load image Python extension: {e}\")\n"
     ]
    },
    {
     "name": "stdout",
     "output_type": "stream",
     "text": [
      "Downloading https://www.cs.toronto.edu/~kriz/cifar-10-python.tar.gz to ./cifar-10-python.tar.gz\n"
     ]
    },
    {
     "name": "stderr",
     "output_type": "stream",
     "text": [
      "1.8%IOPub message rate exceeded.\n",
      "The notebook server will temporarily stop sending output\n",
      "to the client in order to avoid crashing it.\n",
      "To change this limit, set the config variable\n",
      "`--NotebookApp.iopub_msg_rate_limit`.\n",
      "\n",
      "Current values:\n",
      "NotebookApp.iopub_msg_rate_limit=1000.0 (msgs/sec)\n",
      "NotebookApp.rate_limit_window=3.0 (secs)\n",
      "\n",
      "4.9%IOPub message rate exceeded.\n",
      "The notebook server will temporarily stop sending output\n",
      "to the client in order to avoid crashing it.\n",
      "To change this limit, set the config variable\n",
      "`--NotebookApp.iopub_msg_rate_limit`.\n",
      "\n",
      "Current values:\n",
      "NotebookApp.iopub_msg_rate_limit=1000.0 (msgs/sec)\n",
      "NotebookApp.rate_limit_window=3.0 (secs)\n",
      "\n",
      "8.0%IOPub message rate exceeded.\n",
      "The notebook server will temporarily stop sending output\n",
      "to the client in order to avoid crashing it.\n",
      "To change this limit, set the config variable\n",
      "`--NotebookApp.iopub_msg_rate_limit`.\n",
      "\n",
      "Current values:\n",
      "NotebookApp.iopub_msg_rate_limit=1000.0 (msgs/sec)\n",
      "NotebookApp.rate_limit_window=3.0 (secs)\n",
      "\n",
      "11.0%IOPub message rate exceeded.\n",
      "The notebook server will temporarily stop sending output\n",
      "to the client in order to avoid crashing it.\n",
      "To change this limit, set the config variable\n",
      "`--NotebookApp.iopub_msg_rate_limit`.\n",
      "\n",
      "Current values:\n",
      "NotebookApp.iopub_msg_rate_limit=1000.0 (msgs/sec)\n",
      "NotebookApp.rate_limit_window=3.0 (secs)\n",
      "\n",
      "16.9%IOPub message rate exceeded.\n",
      "The notebook server will temporarily stop sending output\n",
      "to the client in order to avoid crashing it.\n",
      "To change this limit, set the config variable\n",
      "`--NotebookApp.iopub_msg_rate_limit`.\n",
      "\n",
      "Current values:\n",
      "NotebookApp.iopub_msg_rate_limit=1000.0 (msgs/sec)\n",
      "NotebookApp.rate_limit_window=3.0 (secs)\n",
      "\n",
      "19.9%IOPub message rate exceeded.\n",
      "The notebook server will temporarily stop sending output\n",
      "to the client in order to avoid crashing it.\n",
      "To change this limit, set the config variable\n",
      "`--NotebookApp.iopub_msg_rate_limit`.\n",
      "\n",
      "Current values:\n",
      "NotebookApp.iopub_msg_rate_limit=1000.0 (msgs/sec)\n",
      "NotebookApp.rate_limit_window=3.0 (secs)\n",
      "\n",
      "25.1%IOPub message rate exceeded.\n",
      "The notebook server will temporarily stop sending output\n",
      "to the client in order to avoid crashing it.\n",
      "To change this limit, set the config variable\n",
      "`--NotebookApp.iopub_msg_rate_limit`.\n",
      "\n",
      "Current values:\n",
      "NotebookApp.iopub_msg_rate_limit=1000.0 (msgs/sec)\n",
      "NotebookApp.rate_limit_window=3.0 (secs)\n",
      "\n",
      "28.1%IOPub message rate exceeded.\n",
      "The notebook server will temporarily stop sending output\n",
      "to the client in order to avoid crashing it.\n",
      "To change this limit, set the config variable\n",
      "`--NotebookApp.iopub_msg_rate_limit`.\n",
      "\n",
      "Current values:\n",
      "NotebookApp.iopub_msg_rate_limit=1000.0 (msgs/sec)\n",
      "NotebookApp.rate_limit_window=3.0 (secs)\n",
      "\n",
      "31.1%IOPub message rate exceeded.\n",
      "The notebook server will temporarily stop sending output\n",
      "to the client in order to avoid crashing it.\n",
      "To change this limit, set the config variable\n",
      "`--NotebookApp.iopub_msg_rate_limit`.\n",
      "\n",
      "Current values:\n",
      "NotebookApp.iopub_msg_rate_limit=1000.0 (msgs/sec)\n",
      "NotebookApp.rate_limit_window=3.0 (secs)\n",
      "\n",
      "36.1%IOPub message rate exceeded.\n",
      "The notebook server will temporarily stop sending output\n",
      "to the client in order to avoid crashing it.\n",
      "To change this limit, set the config variable\n",
      "`--NotebookApp.iopub_msg_rate_limit`.\n",
      "\n",
      "Current values:\n",
      "NotebookApp.iopub_msg_rate_limit=1000.0 (msgs/sec)\n",
      "NotebookApp.rate_limit_window=3.0 (secs)\n",
      "\n",
      "45.0%IOPub message rate exceeded.\n",
      "The notebook server will temporarily stop sending output\n",
      "to the client in order to avoid crashing it.\n",
      "To change this limit, set the config variable\n",
      "`--NotebookApp.iopub_msg_rate_limit`.\n",
      "\n",
      "Current values:\n",
      "NotebookApp.iopub_msg_rate_limit=1000.0 (msgs/sec)\n",
      "NotebookApp.rate_limit_window=3.0 (secs)\n",
      "\n",
      "49.0%IOPub message rate exceeded.\n",
      "The notebook server will temporarily stop sending output\n",
      "to the client in order to avoid crashing it.\n",
      "To change this limit, set the config variable\n",
      "`--NotebookApp.iopub_msg_rate_limit`.\n",
      "\n",
      "Current values:\n",
      "NotebookApp.iopub_msg_rate_limit=1000.0 (msgs/sec)\n",
      "NotebookApp.rate_limit_window=3.0 (secs)\n",
      "\n",
      "53.8%IOPub message rate exceeded.\n",
      "The notebook server will temporarily stop sending output\n",
      "to the client in order to avoid crashing it.\n",
      "To change this limit, set the config variable\n",
      "`--NotebookApp.iopub_msg_rate_limit`.\n",
      "\n",
      "Current values:\n",
      "NotebookApp.iopub_msg_rate_limit=1000.0 (msgs/sec)\n",
      "NotebookApp.rate_limit_window=3.0 (secs)\n",
      "\n",
      "58.8%IOPub message rate exceeded.\n",
      "The notebook server will temporarily stop sending output\n",
      "to the client in order to avoid crashing it.\n",
      "To change this limit, set the config variable\n",
      "`--NotebookApp.iopub_msg_rate_limit`.\n",
      "\n",
      "Current values:\n",
      "NotebookApp.iopub_msg_rate_limit=1000.0 (msgs/sec)\n",
      "NotebookApp.rate_limit_window=3.0 (secs)\n",
      "\n",
      "64.3%IOPub message rate exceeded.\n",
      "The notebook server will temporarily stop sending output\n",
      "to the client in order to avoid crashing it.\n",
      "To change this limit, set the config variable\n",
      "`--NotebookApp.iopub_msg_rate_limit`.\n",
      "\n",
      "Current values:\n",
      "NotebookApp.iopub_msg_rate_limit=1000.0 (msgs/sec)\n",
      "NotebookApp.rate_limit_window=3.0 (secs)\n",
      "\n",
      "70.2%IOPub message rate exceeded.\n",
      "The notebook server will temporarily stop sending output\n",
      "to the client in order to avoid crashing it.\n",
      "To change this limit, set the config variable\n",
      "`--NotebookApp.iopub_msg_rate_limit`.\n",
      "\n",
      "Current values:\n",
      "NotebookApp.iopub_msg_rate_limit=1000.0 (msgs/sec)\n",
      "NotebookApp.rate_limit_window=3.0 (secs)\n",
      "\n",
      "75.9%IOPub message rate exceeded.\n",
      "The notebook server will temporarily stop sending output\n",
      "to the client in order to avoid crashing it.\n",
      "To change this limit, set the config variable\n",
      "`--NotebookApp.iopub_msg_rate_limit`.\n",
      "\n",
      "Current values:\n",
      "NotebookApp.iopub_msg_rate_limit=1000.0 (msgs/sec)\n",
      "NotebookApp.rate_limit_window=3.0 (secs)\n",
      "\n",
      "82.3%IOPub message rate exceeded.\n",
      "The notebook server will temporarily stop sending output\n",
      "to the client in order to avoid crashing it.\n",
      "To change this limit, set the config variable\n",
      "`--NotebookApp.iopub_msg_rate_limit`.\n",
      "\n",
      "Current values:\n",
      "NotebookApp.iopub_msg_rate_limit=1000.0 (msgs/sec)\n",
      "NotebookApp.rate_limit_window=3.0 (secs)\n",
      "\n",
      "87.7%IOPub message rate exceeded.\n",
      "The notebook server will temporarily stop sending output\n",
      "to the client in order to avoid crashing it.\n",
      "To change this limit, set the config variable\n",
      "`--NotebookApp.iopub_msg_rate_limit`.\n",
      "\n",
      "Current values:\n",
      "NotebookApp.iopub_msg_rate_limit=1000.0 (msgs/sec)\n",
      "NotebookApp.rate_limit_window=3.0 (secs)\n",
      "\n",
      "93.8%IOPub message rate exceeded.\n",
      "The notebook server will temporarily stop sending output\n",
      "to the client in order to avoid crashing it.\n",
      "To change this limit, set the config variable\n",
      "`--NotebookApp.iopub_msg_rate_limit`.\n",
      "\n",
      "Current values:\n",
      "NotebookApp.iopub_msg_rate_limit=1000.0 (msgs/sec)\n",
      "NotebookApp.rate_limit_window=3.0 (secs)\n",
      "\n",
      "99.3%IOPub message rate exceeded.\n",
      "The notebook server will temporarily stop sending output\n",
      "to the client in order to avoid crashing it.\n",
      "To change this limit, set the config variable\n",
      "`--NotebookApp.iopub_msg_rate_limit`.\n",
      "\n",
      "Current values:\n",
      "NotebookApp.iopub_msg_rate_limit=1000.0 (msgs/sec)\n",
      "NotebookApp.rate_limit_window=3.0 (secs)\n",
      "\n"
     ]
    }
   ],
   "source": [
    "from torchvision import datasets, transforms, utils\n",
    "# where to put the data\n",
    "data_path = './'\n",
    "\n",
    "# this constructs a CIFAR10 dataset, selects the training part of it, \n",
    "# downloads it if necessary, and adds additional transforms that we \n",
    "# will need to convert each image to a pytorch tensor AND to provide\n",
    "# a nice conversion of the RGB images into greyscale\n",
    "cifar10 = datasets.CIFAR10(\n",
    "    data_path, train=True, download=True,\n",
    "    transform=transforms.Compose([\n",
    "        transforms.ToTensor(),\n",
    "        transforms.Normalize((0.4915, 0.4823, 0.4468),\n",
    "                             (0.2470, 0.2435, 0.2616))\n",
    "    ]))"
   ]
  },
  {
   "cell_type": "markdown",
   "metadata": {
    "id": "LDopmiYRRuJq"
   },
   "source": [
    "This has now downloaded the images if not already done so - you will notice that this is quite a \"hefty\" dataset already at 170MB. Now let's download our validation set or test set."
   ]
  },
  {
   "cell_type": "code",
   "execution_count": 5,
   "metadata": {
    "colab": {
     "base_uri": "https://localhost:8080/"
    },
    "id": "-CyUcfykRuJr",
    "outputId": "7e4e8d18-9be7-481f-aa05-84e652265ed3"
   },
   "outputs": [
    {
     "name": "stdout",
     "output_type": "stream",
     "text": [
      "Files already downloaded and verified\n"
     ]
    }
   ],
   "source": [
    "cifar10_val = datasets.CIFAR10(\n",
    "    data_path, train=False, download=True,\n",
    "    transform=transforms.Compose([\n",
    "        transforms.ToTensor(),\n",
    "        transforms.Normalize((0.4915, 0.4823, 0.4468),\n",
    "                             (0.2470, 0.2435, 0.2616))\n",
    "    ]))"
   ]
  },
  {
   "cell_type": "code",
   "execution_count": 6,
   "metadata": {
    "id": "V5wYzaDtRuJs"
   },
   "outputs": [],
   "source": [
    "label_map = {0: 0, 2: 1}\n",
    "class_names = ['airplane', 'bird']\n",
    "cifar2 = [(img, label_map[label])\n",
    "          for img, label in cifar10\n",
    "          if label in [0, 2]]\n",
    "cifar2_val = [(img, label_map[label])\n",
    "              for img, label in cifar10_val\n",
    "              if label in [0, 2]]"
   ]
  },
  {
   "cell_type": "code",
   "execution_count": 7,
   "metadata": {
    "id": "8aMXAQ0oRuJs"
   },
   "outputs": [],
   "source": [
    "train_loader = torch.utils.data.DataLoader(cifar2, batch_size=64, shuffle=True)"
   ]
  },
  {
   "cell_type": "markdown",
   "metadata": {},
   "source": [
    "## Part1 Pytorch CNN level 1"
   ]
  },
  {
   "cell_type": "code",
   "execution_count": 8,
   "metadata": {
    "id": "VrZddYmwRuJs"
   },
   "outputs": [],
   "source": [
    "import torch.nn.functional as F\n",
    "\n",
    "class Net(nn.Module):\n",
    "    def __init__(self):\n",
    "        super().__init__()\n",
    "        self.conv1 = nn.Conv2d(3, 16, kernel_size=3, padding=1)\n",
    "        self.conv2 = nn.Conv2d(16, 8, kernel_size=3, padding=1)\n",
    "        self.fc1 = nn.Linear(8 * 8 * 8, 32)\n",
    "        self.fc2 = nn.Linear(32, 2)\n",
    "        \n",
    "    def forward(self, x):\n",
    "        out = F.max_pool2d(F.relu(self.conv1(x)), 2)\n",
    "        out = F.max_pool2d(F.relu(self.conv2(out)), 2)\n",
    "        out = out.view(-1, 8 * 8 * 8)\n",
    "        out = F.relu(self.fc1(out))\n",
    "        out = self.fc2(out)\n",
    "        return out"
   ]
  },
  {
   "cell_type": "code",
   "execution_count": 36,
   "metadata": {
    "id": "RTM9KzOwRuJt"
   },
   "outputs": [],
   "source": [
    "import datetime \n",
    "\n",
    "def training_loop(n_epochs, optimizer, model, loss_fn, train_loader,val_loader, iter_num):\n",
    "    train_acc_ep =np.zeros(n_epochs)\n",
    "    val_acc_ep= np.zeros(n_epochs)\n",
    "    for epoch in range(1, n_epochs + 1):\n",
    "        loss_train = 0.0\n",
    "        correct = 0\n",
    "        total = 0\n",
    "        for imgs, labels in train_loader:\n",
    "            # put the data onto the correct pytorch calculation device\n",
    "            imgs=  imgs.to(device =device)\n",
    "            labels = labels.to (device = device)\n",
    "            # put a batch through the model\n",
    "            outputs = model(imgs)\n",
    "            # determine the loss\n",
    "            loss = loss_fn(outputs, labels)\n",
    "            # zero the gradients and determine backpropagation\n",
    "            optimizer.zero_grad()\n",
    "            loss.backward()\n",
    "\n",
    "           # do one step of optimization\n",
    "            optimizer.step()\n",
    "            # keep track of the loss\n",
    "            loss_train += loss.item()\n",
    "            #keep track of accuracy\n",
    "            _, predicted = torch.max(outputs, dim=1)\n",
    "            total += labels.shape[0]\n",
    "            correct += int((predicted == labels).sum())\n",
    "        \n",
    "        \n",
    "        train_acc_ep[epoch-1]=100.*correct/total\n",
    "            \n",
    "\n",
    "        if epoch == 1 or epoch % 10 == 0:\n",
    "            print('{} Random Seed Iteration Number {} Epoch {}, Training loss {}'.format(\n",
    "                datetime.datetime.now(), iter_num+1, epoch,\n",
    "                loss_train / len(train_loader)))\n",
    "        \n",
    "        with torch.no_grad():\n",
    "            for imgs, labels in val_loader:\n",
    "                    imgs = imgs.to(device=device)\n",
    "                    labels = labels.to(device=device)\n",
    "                    outputs = model(imgs)\n",
    "                    _, predicted = torch.max(outputs, dim=1)\n",
    "                    total += labels.shape[0]\n",
    "                    correct += int((predicted == labels).sum())\n",
    "        \n",
    "        val_acc_ep[epoch-1]=100.*correct/total\n",
    "        \n",
    "        \n",
    "    return train_acc_ep, val_acc_ep"
   ]
  },
  {
   "cell_type": "code",
   "execution_count": 37,
   "metadata": {
    "colab": {
     "base_uri": "https://localhost:8080/"
    },
    "id": "nNWw_GrERuJt",
    "outputId": "b1cce32b-717e-448c-f942-d5e04df502b5"
   },
   "outputs": [
    {
     "name": "stdout",
     "output_type": "stream",
     "text": [
      "Training on device cuda.\n"
     ]
    }
   ],
   "source": [
    "device = (torch.device('cuda')if torch.cuda.is_available() \n",
    "    else torch.device('cpu'))\n",
    "print(f\"Training on device {device}.\")"
   ]
  },
  {
   "cell_type": "markdown",
   "metadata": {},
   "source": [
    "Define 20 different seeds and train this network for 100 epochs with a batch size of\n",
    "64, ADAM optimizer (learning rate = 1e-4), tracking training and validation accuracy\n",
    "in EACH epoch.\n"
   ]
  },
  {
   "cell_type": "code",
   "execution_count": 38,
   "metadata": {},
   "outputs": [],
   "source": [
    "def validate(model, train_loader, val_loader):\n",
    "    acc =[]\n",
    "    for name, loader in [(\"train\", train_loader), (\"val\", val_loader)]:\n",
    "        correct = 0\n",
    "        total = 0\n",
    "\n",
    "        with torch.no_grad():\n",
    "            for imgs, labels in loader:\n",
    "                imgs = imgs.to(device=device)\n",
    "                labels = labels.to(device=device)\n",
    "                outputs = model(imgs)\n",
    "                _, predicted = torch.max(outputs, dim=1)\n",
    "                total += labels.shape[0]\n",
    "                correct += int((predicted == labels).sum())\n",
    "        \n",
    "        acc.append(correct / total)\n",
    "\n",
    "        print(\"Accuracy {}: {:.2f}\".format(name , correct / total))\n",
    "        \n",
    "    return acc[0], acc[1] "
   ]
  },
  {
   "cell_type": "code",
   "execution_count": 40,
   "metadata": {},
   "outputs": [
    {
     "name": "stdout",
     "output_type": "stream",
     "text": [
      "2022-11-20 22:45:13.563556 Random Seed Iteration Number 1 Epoch 1, Training loss 0.6167402774285359\n",
      "2022-11-20 22:45:17.081625 Random Seed Iteration Number 1 Epoch 10, Training loss 0.33083745913141094\n",
      "2022-11-20 22:45:20.874183 Random Seed Iteration Number 1 Epoch 20, Training loss 0.3032182773966698\n",
      "2022-11-20 22:45:24.614562 Random Seed Iteration Number 1 Epoch 30, Training loss 0.2873375264892153\n",
      "2022-11-20 22:45:28.398801 Random Seed Iteration Number 1 Epoch 40, Training loss 0.2701356874150076\n",
      "2022-11-20 22:45:32.175669 Random Seed Iteration Number 1 Epoch 50, Training loss 0.2562243304434855\n",
      "2022-11-20 22:45:35.910787 Random Seed Iteration Number 1 Epoch 60, Training loss 0.24414922401403924\n",
      "2022-11-20 22:45:39.693182 Random Seed Iteration Number 1 Epoch 70, Training loss 0.23034080991129965\n",
      "2022-11-20 22:45:43.435427 Random Seed Iteration Number 1 Epoch 80, Training loss 0.21922440437754248\n",
      "2022-11-20 22:45:47.215167 Random Seed Iteration Number 1 Epoch 90, Training loss 0.20964461451123476\n",
      "2022-11-20 22:45:50.968034 Random Seed Iteration Number 1 Epoch 100, Training loss 0.19941088429112344\n",
      "Accuracy train: 0.91\n",
      "Accuracy val: 0.89\n",
      "2022-11-20 22:45:51.526660 Random Seed Iteration Number 2 Epoch 1, Training loss 0.5875755417498814\n",
      "2022-11-20 22:45:54.951208 Random Seed Iteration Number 2 Epoch 10, Training loss 0.326792171711375\n",
      "2022-11-20 22:45:58.703311 Random Seed Iteration Number 2 Epoch 20, Training loss 0.29930806226411444\n",
      "2022-11-20 22:46:02.517265 Random Seed Iteration Number 2 Epoch 30, Training loss 0.2787993454439625\n",
      "2022-11-20 22:46:06.286561 Random Seed Iteration Number 2 Epoch 40, Training loss 0.264096192635928\n",
      "2022-11-20 22:46:10.036593 Random Seed Iteration Number 2 Epoch 50, Training loss 0.24897640203214755\n",
      "2022-11-20 22:46:13.818515 Random Seed Iteration Number 2 Epoch 60, Training loss 0.23897942891166468\n",
      "2022-11-20 22:46:17.582959 Random Seed Iteration Number 2 Epoch 70, Training loss 0.23071577532845697\n",
      "2022-11-20 22:46:21.374537 Random Seed Iteration Number 2 Epoch 80, Training loss 0.2202094358148848\n",
      "2022-11-20 22:46:25.126265 Random Seed Iteration Number 2 Epoch 90, Training loss 0.21556918451171012\n",
      "2022-11-20 22:46:29.433128 Random Seed Iteration Number 2 Epoch 100, Training loss 0.20530176210175655\n",
      "Accuracy train: 0.92\n",
      "Accuracy val: 0.90\n",
      "2022-11-20 22:46:30.070901 Random Seed Iteration Number 3 Epoch 1, Training loss 0.5802781035186378\n",
      "2022-11-20 22:46:33.740394 Random Seed Iteration Number 3 Epoch 10, Training loss 0.327981021753542\n",
      "2022-11-20 22:46:37.485033 Random Seed Iteration Number 3 Epoch 20, Training loss 0.2903340786315833\n",
      "2022-11-20 22:46:41.283287 Random Seed Iteration Number 3 Epoch 30, Training loss 0.27095055357096304\n",
      "2022-11-20 22:46:45.026396 Random Seed Iteration Number 3 Epoch 40, Training loss 0.25154461279796186\n",
      "2022-11-20 22:46:48.799976 Random Seed Iteration Number 3 Epoch 50, Training loss 0.23723942122072172\n",
      "2022-11-20 22:46:52.616253 Random Seed Iteration Number 3 Epoch 60, Training loss 0.22488902637343497\n",
      "2022-11-20 22:46:56.359560 Random Seed Iteration Number 3 Epoch 70, Training loss 0.2134224999292641\n",
      "2022-11-20 22:47:00.117572 Random Seed Iteration Number 3 Epoch 80, Training loss 0.20444788266519073\n",
      "2022-11-20 22:47:03.916182 Random Seed Iteration Number 3 Epoch 90, Training loss 0.19290676200465792\n",
      "2022-11-20 22:47:07.725500 Random Seed Iteration Number 3 Epoch 100, Training loss 0.18294890087311436\n",
      "Accuracy train: 0.93\n",
      "Accuracy val: 0.90\n",
      "2022-11-20 22:47:08.275531 Random Seed Iteration Number 4 Epoch 1, Training loss 0.6126184488178059\n",
      "2022-11-20 22:47:11.701460 Random Seed Iteration Number 4 Epoch 10, Training loss 0.3304788893575122\n",
      "2022-11-20 22:47:15.504384 Random Seed Iteration Number 4 Epoch 20, Training loss 0.3012289081219655\n",
      "2022-11-20 22:47:19.456062 Random Seed Iteration Number 4 Epoch 30, Training loss 0.2788695770843773\n",
      "2022-11-20 22:47:23.411393 Random Seed Iteration Number 4 Epoch 40, Training loss 0.26298784051731133\n",
      "2022-11-20 22:47:27.167444 Random Seed Iteration Number 4 Epoch 50, Training loss 0.24374902433460685\n",
      "2022-11-20 22:47:30.958663 Random Seed Iteration Number 4 Epoch 60, Training loss 0.2305699047294392\n",
      "2022-11-20 22:47:34.941336 Random Seed Iteration Number 4 Epoch 70, Training loss 0.22008871059319016\n",
      "2022-11-20 22:47:38.732588 Random Seed Iteration Number 4 Epoch 80, Training loss 0.20919259499972034\n",
      "2022-11-20 22:47:42.533242 Random Seed Iteration Number 4 Epoch 90, Training loss 0.20085286745315145\n",
      "2022-11-20 22:47:46.301402 Random Seed Iteration Number 4 Epoch 100, Training loss 0.19030976546987607\n",
      "Accuracy train: 0.92\n",
      "Accuracy val: 0.88\n",
      "2022-11-20 22:47:46.842597 Random Seed Iteration Number 5 Epoch 1, Training loss 0.6013312478354023\n",
      "2022-11-20 22:47:50.240643 Random Seed Iteration Number 5 Epoch 10, Training loss 0.33258992499986273\n",
      "2022-11-20 22:47:54.628827 Random Seed Iteration Number 5 Epoch 20, Training loss 0.3003797603260939\n",
      "2022-11-20 22:47:58.636797 Random Seed Iteration Number 5 Epoch 30, Training loss 0.2767361172824908\n",
      "2022-11-20 22:48:02.393256 Random Seed Iteration Number 5 Epoch 40, Training loss 0.2593158552790903\n",
      "2022-11-20 22:48:06.253758 Random Seed Iteration Number 5 Epoch 50, Training loss 0.24388550255139163\n",
      "2022-11-20 22:48:10.105065 Random Seed Iteration Number 5 Epoch 60, Training loss 0.23160624950175074\n",
      "2022-11-20 22:48:14.079575 Random Seed Iteration Number 5 Epoch 70, Training loss 0.2208494977776412\n",
      "2022-11-20 22:48:17.909695 Random Seed Iteration Number 5 Epoch 80, Training loss 0.20978362606779025\n",
      "2022-11-20 22:48:21.682318 Random Seed Iteration Number 5 Epoch 90, Training loss 0.2005718614739977\n",
      "2022-11-20 22:48:25.484272 Random Seed Iteration Number 5 Epoch 100, Training loss 0.18821735058430653\n",
      "Accuracy train: 0.93\n",
      "Accuracy val: 0.90\n",
      "2022-11-20 22:48:26.033621 Random Seed Iteration Number 6 Epoch 1, Training loss 0.5742464737527689\n",
      "2022-11-20 22:48:29.409052 Random Seed Iteration Number 6 Epoch 10, Training loss 0.3244097023063405\n",
      "2022-11-20 22:48:33.160184 Random Seed Iteration Number 6 Epoch 20, Training loss 0.29432531270631557\n",
      "2022-11-20 22:48:37.039816 Random Seed Iteration Number 6 Epoch 30, Training loss 0.27851538027927375\n",
      "2022-11-20 22:48:41.289582 Random Seed Iteration Number 6 Epoch 40, Training loss 0.261977488495362\n",
      "2022-11-20 22:48:45.055481 Random Seed Iteration Number 6 Epoch 50, Training loss 0.25026125982878317\n",
      "2022-11-20 22:48:49.107486 Random Seed Iteration Number 6 Epoch 60, Training loss 0.2384704770816929\n",
      "2022-11-20 22:48:53.023012 Random Seed Iteration Number 6 Epoch 70, Training loss 0.22993580555650078\n",
      "2022-11-20 22:48:56.746769 Random Seed Iteration Number 6 Epoch 80, Training loss 0.2196460961820973\n",
      "2022-11-20 22:49:00.526099 Random Seed Iteration Number 6 Epoch 90, Training loss 0.21209425749672448\n",
      "2022-11-20 22:49:04.226072 Random Seed Iteration Number 6 Epoch 100, Training loss 0.2035100288262033\n",
      "Accuracy train: 0.92\n",
      "Accuracy val: 0.89\n",
      "2022-11-20 22:49:04.800747 Random Seed Iteration Number 7 Epoch 1, Training loss 0.6094098028483664\n",
      "2022-11-20 22:49:08.105081 Random Seed Iteration Number 7 Epoch 10, Training loss 0.33583083976605893\n",
      "2022-11-20 22:49:11.817347 Random Seed Iteration Number 7 Epoch 20, Training loss 0.3012946204395051\n",
      "2022-11-20 22:49:15.573751 Random Seed Iteration Number 7 Epoch 30, Training loss 0.2826720972539513\n",
      "2022-11-20 22:49:19.262042 Random Seed Iteration Number 7 Epoch 40, Training loss 0.2658113678739329\n",
      "2022-11-20 22:49:22.994631 Random Seed Iteration Number 7 Epoch 50, Training loss 0.24929858540083952\n",
      "2022-11-20 22:49:26.686507 Random Seed Iteration Number 7 Epoch 60, Training loss 0.23335012356946422\n",
      "2022-11-20 22:49:30.492612 Random Seed Iteration Number 7 Epoch 70, Training loss 0.2245521179050397\n",
      "2022-11-20 22:49:34.201202 Random Seed Iteration Number 7 Epoch 80, Training loss 0.21566350141148657\n",
      "2022-11-20 22:49:37.901227 Random Seed Iteration Number 7 Epoch 90, Training loss 0.206759562727752\n",
      "2022-11-20 22:49:41.609809 Random Seed Iteration Number 7 Epoch 100, Training loss 0.1992733810737634\n",
      "Accuracy train: 0.92\n",
      "Accuracy val: 0.89\n",
      "2022-11-20 22:49:42.174183 Random Seed Iteration Number 8 Epoch 1, Training loss 0.6041659543848341\n",
      "2022-11-20 22:49:45.652630 Random Seed Iteration Number 8 Epoch 10, Training loss 0.33387002140093763\n"
     ]
    },
    {
     "name": "stdout",
     "output_type": "stream",
     "text": [
      "2022-11-20 22:49:49.365758 Random Seed Iteration Number 8 Epoch 20, Training loss 0.2927847694439493\n",
      "2022-11-20 22:49:53.081610 Random Seed Iteration Number 8 Epoch 30, Training loss 0.2680590826614647\n",
      "2022-11-20 22:49:56.771721 Random Seed Iteration Number 8 Epoch 40, Training loss 0.2515104725292534\n",
      "2022-11-20 22:50:00.474309 Random Seed Iteration Number 8 Epoch 50, Training loss 0.2395857288294537\n",
      "2022-11-20 22:50:04.299928 Random Seed Iteration Number 8 Epoch 60, Training loss 0.2278614057951672\n",
      "2022-11-20 22:50:08.560083 Random Seed Iteration Number 8 Epoch 70, Training loss 0.2192932339800391\n",
      "2022-11-20 22:50:12.600924 Random Seed Iteration Number 8 Epoch 80, Training loss 0.20604728632102345\n",
      "2022-11-20 22:50:16.338641 Random Seed Iteration Number 8 Epoch 90, Training loss 0.1979717495524959\n",
      "2022-11-20 22:50:20.224823 Random Seed Iteration Number 8 Epoch 100, Training loss 0.1883689010409033\n",
      "Accuracy train: 0.93\n",
      "Accuracy val: 0.89\n",
      "2022-11-20 22:50:20.767911 Random Seed Iteration Number 9 Epoch 1, Training loss 0.6012768460686799\n",
      "2022-11-20 22:50:24.587018 Random Seed Iteration Number 9 Epoch 10, Training loss 0.34479542940285557\n",
      "2022-11-20 22:50:29.004280 Random Seed Iteration Number 9 Epoch 20, Training loss 0.30437280740707545\n",
      "2022-11-20 22:50:32.941153 Random Seed Iteration Number 9 Epoch 30, Training loss 0.2752251291445866\n",
      "2022-11-20 22:50:36.763168 Random Seed Iteration Number 9 Epoch 40, Training loss 0.25506860739106585\n",
      "2022-11-20 22:50:40.557240 Random Seed Iteration Number 9 Epoch 50, Training loss 0.23446220373082313\n",
      "2022-11-20 22:50:44.463344 Random Seed Iteration Number 9 Epoch 60, Training loss 0.22067774889195801\n",
      "2022-11-20 22:50:48.271618 Random Seed Iteration Number 9 Epoch 70, Training loss 0.2056395563824921\n",
      "2022-11-20 22:50:52.100662 Random Seed Iteration Number 9 Epoch 80, Training loss 0.19505816104875248\n",
      "2022-11-20 22:50:55.939048 Random Seed Iteration Number 9 Epoch 90, Training loss 0.1860412794408525\n",
      "2022-11-20 22:50:59.800941 Random Seed Iteration Number 9 Epoch 100, Training loss 0.1743915020755142\n",
      "Accuracy train: 0.93\n",
      "Accuracy val: 0.89\n",
      "2022-11-20 22:51:00.349958 Random Seed Iteration Number 10 Epoch 1, Training loss 0.5956360652188587\n",
      "2022-11-20 22:51:03.786676 Random Seed Iteration Number 10 Epoch 10, Training loss 0.3406536358936577\n",
      "2022-11-20 22:51:07.702186 Random Seed Iteration Number 10 Epoch 20, Training loss 0.296901333294097\n",
      "2022-11-20 22:51:11.578970 Random Seed Iteration Number 10 Epoch 30, Training loss 0.2743563803897542\n",
      "2022-11-20 22:51:15.448744 Random Seed Iteration Number 10 Epoch 40, Training loss 0.2570607012529282\n",
      "2022-11-20 22:51:19.436956 Random Seed Iteration Number 10 Epoch 50, Training loss 0.2440989632515391\n",
      "2022-11-20 22:51:23.264804 Random Seed Iteration Number 10 Epoch 60, Training loss 0.23022723596566802\n",
      "2022-11-20 22:51:27.115082 Random Seed Iteration Number 10 Epoch 70, Training loss 0.2168275177668614\n",
      "2022-11-20 22:51:30.942438 Random Seed Iteration Number 10 Epoch 80, Training loss 0.208103687377872\n",
      "2022-11-20 22:51:34.823761 Random Seed Iteration Number 10 Epoch 90, Training loss 0.19670475663463022\n",
      "2022-11-20 22:51:38.735172 Random Seed Iteration Number 10 Epoch 100, Training loss 0.1879825854472294\n",
      "Accuracy train: 0.92\n",
      "Accuracy val: 0.90\n",
      "2022-11-20 22:51:39.382570 Random Seed Iteration Number 11 Epoch 1, Training loss 0.6119171301270746\n",
      "2022-11-20 22:51:42.878281 Random Seed Iteration Number 11 Epoch 10, Training loss 0.3253701032157157\n",
      "2022-11-20 22:51:46.801854 Random Seed Iteration Number 11 Epoch 20, Training loss 0.2913671802183625\n",
      "2022-11-20 22:51:50.686399 Random Seed Iteration Number 11 Epoch 30, Training loss 0.2733246603399325\n",
      "2022-11-20 22:51:54.569559 Random Seed Iteration Number 11 Epoch 40, Training loss 0.2573800198496527\n",
      "2022-11-20 22:51:58.505899 Random Seed Iteration Number 11 Epoch 50, Training loss 0.245187903190874\n",
      "2022-11-20 22:52:02.426880 Random Seed Iteration Number 11 Epoch 60, Training loss 0.23528269659371892\n",
      "2022-11-20 22:52:06.336111 Random Seed Iteration Number 11 Epoch 70, Training loss 0.22294881090426902\n",
      "2022-11-20 22:52:10.275582 Random Seed Iteration Number 11 Epoch 80, Training loss 0.20971004952006278\n",
      "2022-11-20 22:52:14.080860 Random Seed Iteration Number 11 Epoch 90, Training loss 0.2034242165980825\n",
      "2022-11-20 22:52:17.888772 Random Seed Iteration Number 11 Epoch 100, Training loss 0.19494502635518457\n",
      "Accuracy train: 0.92\n",
      "Accuracy val: 0.89\n",
      "2022-11-20 22:52:18.486473 Random Seed Iteration Number 12 Epoch 1, Training loss 0.5849535436766922\n",
      "2022-11-20 22:52:21.893343 Random Seed Iteration Number 12 Epoch 10, Training loss 0.3478338377680748\n",
      "2022-11-20 22:52:25.761486 Random Seed Iteration Number 12 Epoch 20, Training loss 0.3035751375233292\n",
      "2022-11-20 22:52:29.607929 Random Seed Iteration Number 12 Epoch 30, Training loss 0.2786902122341903\n",
      "2022-11-20 22:52:33.417303 Random Seed Iteration Number 12 Epoch 40, Training loss 0.2645007625317118\n",
      "2022-11-20 22:52:37.260607 Random Seed Iteration Number 12 Epoch 50, Training loss 0.24689819369536298\n",
      "2022-11-20 22:52:41.111310 Random Seed Iteration Number 12 Epoch 60, Training loss 0.23556791364577165\n",
      "2022-11-20 22:52:44.941164 Random Seed Iteration Number 12 Epoch 70, Training loss 0.21923975114989433\n",
      "2022-11-20 22:52:48.743516 Random Seed Iteration Number 12 Epoch 80, Training loss 0.2087473570351388\n",
      "2022-11-20 22:52:52.651146 Random Seed Iteration Number 12 Epoch 90, Training loss 0.1970335704505823\n",
      "2022-11-20 22:52:56.623952 Random Seed Iteration Number 12 Epoch 100, Training loss 0.18661415894889527\n",
      "Accuracy train: 0.92\n",
      "Accuracy val: 0.89\n",
      "2022-11-20 22:52:57.192469 Random Seed Iteration Number 13 Epoch 1, Training loss 0.5831290910578077\n",
      "2022-11-20 22:53:00.675790 Random Seed Iteration Number 13 Epoch 10, Training loss 0.330581391598009\n",
      "2022-11-20 22:53:04.600204 Random Seed Iteration Number 13 Epoch 20, Training loss 0.30366753459356394\n",
      "2022-11-20 22:53:08.475945 Random Seed Iteration Number 13 Epoch 30, Training loss 0.2855467635924649\n",
      "2022-11-20 22:53:12.360459 Random Seed Iteration Number 13 Epoch 40, Training loss 0.27255979835227795\n",
      "2022-11-20 22:53:16.268387 Random Seed Iteration Number 13 Epoch 50, Training loss 0.26130770498020633\n",
      "2022-11-20 22:53:20.127656 Random Seed Iteration Number 13 Epoch 60, Training loss 0.24756132165907294\n",
      "2022-11-20 22:53:24.011959 Random Seed Iteration Number 13 Epoch 70, Training loss 0.2370499754027956\n",
      "2022-11-20 22:53:27.918009 Random Seed Iteration Number 13 Epoch 80, Training loss 0.2290416151569907\n",
      "2022-11-20 22:53:32.020039 Random Seed Iteration Number 13 Epoch 90, Training loss 0.2164043122605913\n",
      "2022-11-20 22:53:35.952189 Random Seed Iteration Number 13 Epoch 100, Training loss 0.20883759263024967\n",
      "Accuracy train: 0.91\n",
      "Accuracy val: 0.88\n",
      "2022-11-20 22:53:36.511696 Random Seed Iteration Number 14 Epoch 1, Training loss 0.5880610745423919\n",
      "2022-11-20 22:53:39.982907 Random Seed Iteration Number 14 Epoch 10, Training loss 0.34096975045599\n",
      "2022-11-20 22:53:43.819224 Random Seed Iteration Number 14 Epoch 20, Training loss 0.29837578582535884\n",
      "2022-11-20 22:53:47.800867 Random Seed Iteration Number 14 Epoch 30, Training loss 0.27434594037046856\n",
      "2022-11-20 22:53:51.709446 Random Seed Iteration Number 14 Epoch 40, Training loss 0.25458959542262327\n",
      "2022-11-20 22:53:55.550123 Random Seed Iteration Number 14 Epoch 50, Training loss 0.23936060602497902\n",
      "2022-11-20 22:53:59.282669 Random Seed Iteration Number 14 Epoch 60, Training loss 0.22409604247778084\n",
      "2022-11-20 22:54:03.046467 Random Seed Iteration Number 14 Epoch 70, Training loss 0.2142197511568191\n",
      "2022-11-20 22:54:06.811114 Random Seed Iteration Number 14 Epoch 80, Training loss 0.20356103616535284\n",
      "2022-11-20 22:54:10.567337 Random Seed Iteration Number 14 Epoch 90, Training loss 0.19368880887509912\n",
      "2022-11-20 22:54:14.365979 Random Seed Iteration Number 14 Epoch 100, Training loss 0.18731626787572908\n",
      "Accuracy train: 0.93\n",
      "Accuracy val: 0.89\n",
      "2022-11-20 22:54:14.967971 Random Seed Iteration Number 15 Epoch 1, Training loss 0.6126513636795579\n",
      "2022-11-20 22:54:18.498410 Random Seed Iteration Number 15 Epoch 10, Training loss 0.33784604214938585\n",
      "2022-11-20 22:54:22.879392 Random Seed Iteration Number 15 Epoch 20, Training loss 0.30512949283335616\n"
     ]
    },
    {
     "name": "stdout",
     "output_type": "stream",
     "text": [
      "2022-11-20 22:54:27.181013 Random Seed Iteration Number 15 Epoch 30, Training loss 0.2836975717240838\n",
      "2022-11-20 22:54:31.117852 Random Seed Iteration Number 15 Epoch 40, Training loss 0.26835391732158176\n",
      "2022-11-20 22:54:34.933861 Random Seed Iteration Number 15 Epoch 50, Training loss 0.2564793036432023\n",
      "2022-11-20 22:54:38.585889 Random Seed Iteration Number 15 Epoch 60, Training loss 0.2397519308765223\n",
      "2022-11-20 22:54:42.263241 Random Seed Iteration Number 15 Epoch 70, Training loss 0.23045897730596507\n",
      "2022-11-20 22:54:45.934418 Random Seed Iteration Number 15 Epoch 80, Training loss 0.21544745341417895\n",
      "2022-11-20 22:54:49.657715 Random Seed Iteration Number 15 Epoch 90, Training loss 0.20617019024434363\n",
      "2022-11-20 22:54:53.334449 Random Seed Iteration Number 15 Epoch 100, Training loss 0.1982606304868771\n",
      "Accuracy train: 0.92\n",
      "Accuracy val: 0.90\n",
      "2022-11-20 22:54:53.873004 Random Seed Iteration Number 16 Epoch 1, Training loss 0.619248418861134\n",
      "2022-11-20 22:54:57.200418 Random Seed Iteration Number 16 Epoch 10, Training loss 0.32908819482964313\n",
      "2022-11-20 22:55:01.029428 Random Seed Iteration Number 16 Epoch 20, Training loss 0.29962472380346555\n",
      "2022-11-20 22:55:05.400941 Random Seed Iteration Number 16 Epoch 30, Training loss 0.2819515061416444\n",
      "2022-11-20 22:55:09.419736 Random Seed Iteration Number 16 Epoch 40, Training loss 0.269785132567594\n",
      "2022-11-20 22:55:13.231590 Random Seed Iteration Number 16 Epoch 50, Training loss 0.2572679613616056\n",
      "2022-11-20 22:55:16.991679 Random Seed Iteration Number 16 Epoch 60, Training loss 0.24411280163723953\n",
      "2022-11-20 22:55:21.000601 Random Seed Iteration Number 16 Epoch 70, Training loss 0.23264391753514102\n",
      "2022-11-20 22:55:24.843481 Random Seed Iteration Number 16 Epoch 80, Training loss 0.22207136722696816\n",
      "2022-11-20 22:55:28.530465 Random Seed Iteration Number 16 Epoch 90, Training loss 0.21175275325395498\n",
      "2022-11-20 22:55:32.238070 Random Seed Iteration Number 16 Epoch 100, Training loss 0.203421753682908\n",
      "Accuracy train: 0.92\n",
      "Accuracy val: 0.89\n",
      "2022-11-20 22:55:32.772206 Random Seed Iteration Number 17 Epoch 1, Training loss 0.5734767203877686\n",
      "2022-11-20 22:55:36.088752 Random Seed Iteration Number 17 Epoch 10, Training loss 0.33298071469091306\n",
      "2022-11-20 22:55:39.829380 Random Seed Iteration Number 17 Epoch 20, Training loss 0.2964449232550943\n",
      "2022-11-20 22:55:43.522035 Random Seed Iteration Number 17 Epoch 30, Training loss 0.2767210875157338\n",
      "2022-11-20 22:55:47.190021 Random Seed Iteration Number 17 Epoch 40, Training loss 0.26007545715684344\n",
      "2022-11-20 22:55:50.882670 Random Seed Iteration Number 17 Epoch 50, Training loss 0.24792363717677487\n",
      "2022-11-20 22:55:54.614598 Random Seed Iteration Number 17 Epoch 60, Training loss 0.23462855132522098\n",
      "2022-11-20 22:55:58.318940 Random Seed Iteration Number 17 Epoch 70, Training loss 0.22415086968689207\n",
      "2022-11-20 22:56:02.151283 Random Seed Iteration Number 17 Epoch 80, Training loss 0.21006731541862914\n",
      "2022-11-20 22:56:05.939204 Random Seed Iteration Number 17 Epoch 90, Training loss 0.1991037594949364\n",
      "2022-11-20 22:56:09.799828 Random Seed Iteration Number 17 Epoch 100, Training loss 0.18686113259784734\n",
      "Accuracy train: 0.93\n",
      "Accuracy val: 0.89\n",
      "2022-11-20 22:56:10.340520 Random Seed Iteration Number 18 Epoch 1, Training loss 0.6281405387410692\n",
      "2022-11-20 22:56:13.745808 Random Seed Iteration Number 18 Epoch 10, Training loss 0.3364855820775791\n",
      "2022-11-20 22:56:17.716013 Random Seed Iteration Number 18 Epoch 20, Training loss 0.3006322983723537\n",
      "2022-11-20 22:56:21.683777 Random Seed Iteration Number 18 Epoch 30, Training loss 0.273606988275127\n",
      "2022-11-20 22:56:25.511051 Random Seed Iteration Number 18 Epoch 40, Training loss 0.2536190606796058\n",
      "2022-11-20 22:56:29.641716 Random Seed Iteration Number 18 Epoch 50, Training loss 0.23805323674990114\n",
      "2022-11-20 22:56:33.595694 Random Seed Iteration Number 18 Epoch 60, Training loss 0.2286827680506524\n",
      "2022-11-20 22:56:37.366343 Random Seed Iteration Number 18 Epoch 70, Training loss 0.2172178432440302\n",
      "2022-11-20 22:56:41.167538 Random Seed Iteration Number 18 Epoch 80, Training loss 0.20935968309640884\n",
      "2022-11-20 22:56:45.123028 Random Seed Iteration Number 18 Epoch 90, Training loss 0.19914968031796682\n",
      "2022-11-20 22:56:49.271583 Random Seed Iteration Number 18 Epoch 100, Training loss 0.19024789402154602\n",
      "Accuracy train: 0.92\n",
      "Accuracy val: 0.90\n",
      "2022-11-20 22:56:49.805596 Random Seed Iteration Number 19 Epoch 1, Training loss 0.5990125411634992\n",
      "2022-11-20 22:56:53.290307 Random Seed Iteration Number 19 Epoch 10, Training loss 0.3318881881274995\n",
      "2022-11-20 22:56:57.358716 Random Seed Iteration Number 19 Epoch 20, Training loss 0.3003217525732745\n",
      "2022-11-20 22:57:01.161591 Random Seed Iteration Number 19 Epoch 30, Training loss 0.2786788164525275\n",
      "2022-11-20 22:57:04.938859 Random Seed Iteration Number 19 Epoch 40, Training loss 0.26302268982503063\n",
      "2022-11-20 22:57:08.883360 Random Seed Iteration Number 19 Epoch 50, Training loss 0.2534820722641459\n",
      "2022-11-20 22:57:12.940854 Random Seed Iteration Number 19 Epoch 60, Training loss 0.24265866897478225\n",
      "2022-11-20 22:57:17.121546 Random Seed Iteration Number 19 Epoch 70, Training loss 0.2318620178255306\n",
      "2022-11-20 22:57:21.275244 Random Seed Iteration Number 19 Epoch 80, Training loss 0.22391482575494012\n",
      "2022-11-20 22:57:25.421692 Random Seed Iteration Number 19 Epoch 90, Training loss 0.21670080597992916\n",
      "2022-11-20 22:57:29.611534 Random Seed Iteration Number 19 Epoch 100, Training loss 0.20915570181266518\n",
      "Accuracy train: 0.92\n",
      "Accuracy val: 0.89\n",
      "2022-11-20 22:57:30.211153 Random Seed Iteration Number 20 Epoch 1, Training loss 0.6107260960682183\n",
      "2022-11-20 22:57:33.923234 Random Seed Iteration Number 20 Epoch 10, Training loss 0.3323555833594814\n",
      "2022-11-20 22:57:37.915428 Random Seed Iteration Number 20 Epoch 20, Training loss 0.2938157643197448\n",
      "2022-11-20 22:57:41.999950 Random Seed Iteration Number 20 Epoch 30, Training loss 0.27378132227499774\n",
      "2022-11-20 22:57:46.142009 Random Seed Iteration Number 20 Epoch 40, Training loss 0.25712197449556584\n",
      "2022-11-20 22:57:50.242829 Random Seed Iteration Number 20 Epoch 50, Training loss 0.24425010183814225\n",
      "2022-11-20 22:57:54.303135 Random Seed Iteration Number 20 Epoch 60, Training loss 0.23529561115488126\n",
      "2022-11-20 22:57:58.445276 Random Seed Iteration Number 20 Epoch 70, Training loss 0.22609903297986195\n",
      "2022-11-20 22:58:02.494800 Random Seed Iteration Number 20 Epoch 80, Training loss 0.2201204331722229\n",
      "2022-11-20 22:58:06.563853 Random Seed Iteration Number 20 Epoch 90, Training loss 0.208700736047356\n",
      "2022-11-20 22:58:10.566416 Random Seed Iteration Number 20 Epoch 100, Training loss 0.20165713957160902\n",
      "Accuracy train: 0.92\n",
      "Accuracy val: 0.89\n"
     ]
    }
   ],
   "source": [
    "train_acc_all = np.zeros(20)\n",
    "val_acc_all= np.zeros(20)\n",
    "train_acc_epoch = np.zeros([20,100])\n",
    "val_acc_epoch = np.zeros([20,100])\n",
    "for i in range(20):\n",
    "    \n",
    "    seed_int =random.randint(0, 1000) # creating random seed values for the  different datasets\n",
    "    torch.manual_seed(seed_int)\n",
    "    train_loader = torch.utils.data.DataLoader(cifar2, batch_size=64,\n",
    "                                           shuffle=True)\n",
    "    val_loader = torch.utils.data.DataLoader(cifar2_val, batch_size=64,\n",
    "                                         shuffle=False)\n",
    "\n",
    "    # get the model and put it onto the proper device\n",
    "    model = Net().to(device=device)\n",
    "    # standard optimizer \n",
    "    optimizer = optim.Adam(model.parameters(), lr=1e-4) \n",
    "    # classification loss\n",
    "    loss_fn = nn.CrossEntropyLoss()\n",
    "\n",
    "    # go for 100 epochs\n",
    "    train_acc_epoch [i,:], val_acc_epoch[i,:] = training_loop(n_epochs = 100, optimizer = optimizer, model = model, loss_fn = loss_fn, train_loader = train_loader, val_loader = val_loader,iter_num =i )\n",
    "    \n",
    "    train_acc_all[i], val_acc_all[i]=validate(model, train_loader, val_loader)\n"
   ]
  },
  {
   "cell_type": "code",
   "execution_count": 54,
   "metadata": {},
   "outputs": [
    {
     "data": {
      "image/png": "[encoded data removed]",
      "text/plain": [
       "<Figure size 1080x576 with 1 Axes>"
      ]
     },
     "metadata": {
      "needs_background": "light"
     },
     "output_type": "display_data"
    }
   ],
   "source": [
    "plt.subplots(figsize=(15, 8))\n",
    "for i in range(5):\n",
    "    plt.plot(train_acc_epoch[i])\n",
    "plt.xlabel('Epochs')\n",
    "plt.ylabel('Accuracy')\n",
    "plt.legend(['Trial 1', 'Trial 2','Trial 3', 'Trial 4', 'Trial 5'])\n",
    "plt.title('Training accuracy graphs for the first 1- trials at each epoch')\n",
    "plt.grid()"
   ]
  },
  {
   "cell_type": "code",
   "execution_count": 55,
   "metadata": {},
   "outputs": [
    {
     "data": {
      "image/png": "[encoded data removed]",
      "text/plain": [
       "<Figure size 1080x576 with 1 Axes>"
      ]
     },
     "metadata": {
      "needs_background": "light"
     },
     "output_type": "display_data"
    }
   ],
   "source": [
    "plt.subplots(figsize=(15, 8))\n",
    "for i in range(5):\n",
    "    plt.plot(val_acc_epoch[i])\n",
    "plt.xlabel('Epochs')\n",
    "plt.ylabel('Accuracy')\n",
    "plt.legend(['Trial 1', 'Trial 2','Trial 3', 'Trial 4', 'Trial 5'])\n",
    "plt.title('Validation accuracy graphs for the first 1- trials at each epoch')\n",
    "plt.grid()"
   ]
  },
  {
   "cell_type": "code",
   "execution_count": 56,
   "metadata": {},
   "outputs": [
    {
     "data": {
      "image/png": "[encoded data removed]",
      "text/plain": [
       "<Figure size 432x288 with 1 Axes>"
      ]
     },
     "metadata": {
      "needs_background": "light"
     },
     "output_type": "display_data"
    }
   ],
   "source": [
    "plt.plot(np.mean(train_acc_epoch, axis=0)) #taking the mean of each column -- average accuraccu at each epock for the 20 trials\n",
    "plt.xlabel('Epochs')\n",
    "plt.ylabel(' Accuracy')\n",
    "plt.title('Average Training Accuracy at each epoch for the 20 trials')\n",
    "plt.grid()"
   ]
  },
  {
   "cell_type": "code",
   "execution_count": 58,
   "metadata": {},
   "outputs": [
    {
     "data": {
      "image/png": "[encoded data removed]",
      "text/plain": [
       "<Figure size 432x288 with 1 Axes>"
      ]
     },
     "metadata": {
      "needs_background": "light"
     },
     "output_type": "display_data"
    }
   ],
   "source": [
    "plt.plot(np.mean(val_acc_epoch, axis=0)) #taking the mean of each column -- average accuraccu at each epock for the 20 trials\n",
    "plt.xlabel('Epochs')\n",
    "plt.ylabel('Accuracy')\n",
    "plt.title('Average Validation Accuracy at each epoch for the 20 trials')\n",
    "plt.grid()"
   ]
  },
  {
   "cell_type": "code",
   "execution_count": null,
   "metadata": {},
   "outputs": [],
   "source": []
  },
  {
   "cell_type": "code",
   "execution_count": 13,
   "metadata": {},
   "outputs": [
    {
     "data": {
      "text/plain": [
       "array([0.917 , 0.914 , 0.9361, 0.9171, 0.9252, 0.919 , 0.916 , 0.9249,\n",
       "       0.9114, 0.9266, 0.917 , 0.9157, 0.9251, 0.9185, 0.9175, 0.9154,\n",
       "       0.9253, 0.9232, 0.9146, 0.9151])"
      ]
     },
     "execution_count": 13,
     "metadata": {},
     "output_type": "execute_result"
    }
   ],
   "source": [
    "train_acc"
   ]
  },
  {
   "cell_type": "code",
   "execution_count": 14,
   "metadata": {},
   "outputs": [
    {
     "data": {
      "text/plain": [
       "array([0.896 , 0.8945, 0.893 , 0.887 , 0.8915, 0.8895, 0.8875, 0.894 ,\n",
       "       0.8885, 0.8955, 0.889 , 0.8935, 0.89  , 0.8825, 0.893 , 0.8905,\n",
       "       0.887 , 0.8785, 0.8895, 0.893 ])"
      ]
     },
     "execution_count": 14,
     "metadata": {},
     "output_type": "execute_result"
    }
   ],
   "source": [
    "val_acc"
   ]
  },
  {
   "cell_type": "code",
   "execution_count": 41,
   "metadata": {},
   "outputs": [
    {
     "name": "stdout",
     "output_type": "stream",
     "text": [
      "2022-11-20 21:35:45.657395 Random Seed Iteration Number 1 Epoch 1, Training loss 0.5906210936558475\n",
      "2022-11-20 21:36:49.044048 Random Seed Iteration Number 1 Epoch 10, Training loss 0.3262808236536706\n",
      "2022-11-20 21:37:45.512347 Random Seed Iteration Number 1 Epoch 20, Training loss 0.29588102406946715\n",
      "2022-11-20 21:38:47.471585 Random Seed Iteration Number 1 Epoch 30, Training loss 0.27968630232628744\n",
      "2022-11-20 21:39:38.235589 Random Seed Iteration Number 1 Epoch 40, Training loss 0.2683284100453565\n",
      "2022-11-20 21:40:30.432774 Random Seed Iteration Number 1 Epoch 50, Training loss 0.2542777190542525\n",
      "2022-11-20 21:41:22.123250 Random Seed Iteration Number 1 Epoch 60, Training loss 0.2418226025002018\n",
      "2022-11-20 21:42:14.746238 Random Seed Iteration Number 1 Epoch 70, Training loss 0.22798280223349857\n",
      "2022-11-20 21:43:14.063841 Random Seed Iteration Number 1 Epoch 80, Training loss 0.22018855534921025\n",
      "2022-11-20 21:44:14.619257 Random Seed Iteration Number 1 Epoch 90, Training loss 0.21161319052053104\n",
      "2022-11-20 21:45:12.339809 Random Seed Iteration Number 1 Epoch 100, Training loss 0.20086860621146335\n",
      "2022-11-20 21:45:17.527844 Random Seed Iteration Number 2 Epoch 1, Training loss 0.5892318882000674\n",
      "2022-11-20 21:46:03.529567 Random Seed Iteration Number 2 Epoch 10, Training loss 0.32513164951922785\n",
      "2022-11-20 21:47:00.282150 Random Seed Iteration Number 2 Epoch 20, Training loss 0.29470591493852577\n"
     ]
    },
    {
     "ename": "KeyboardInterrupt",
     "evalue": "",
     "output_type": "error",
     "traceback": [
      "\u001b[1;31m---------------------------------------------------------------------------\u001b[0m",
      "\u001b[1;31mKeyboardInterrupt\u001b[0m                         Traceback (most recent call last)",
      "Cell \u001b[1;32mIn [41], line 17\u001b[0m\n\u001b[0;32m     14\u001b[0m loss_fn \u001b[38;5;241m=\u001b[39m nn\u001b[38;5;241m.\u001b[39mCrossEntropyLoss()\n\u001b[0;32m     16\u001b[0m \u001b[38;5;66;03m# go for 100 epochs\u001b[39;00m\n\u001b[1;32m---> 17\u001b[0m \u001b[43mtraining_loop\u001b[49m\u001b[43m(\u001b[49m\u001b[43mn_epochs\u001b[49m\u001b[43m \u001b[49m\u001b[38;5;241;43m=\u001b[39;49m\u001b[43m \u001b[49m\u001b[38;5;241;43m100\u001b[39;49m\u001b[43m,\u001b[49m\u001b[43m \u001b[49m\u001b[43moptimizer\u001b[49m\u001b[43m \u001b[49m\u001b[38;5;241;43m=\u001b[39;49m\u001b[43m \u001b[49m\u001b[43moptimizer\u001b[49m\u001b[43m,\u001b[49m\u001b[43m \u001b[49m\u001b[43mmodel\u001b[49m\u001b[43m \u001b[49m\u001b[38;5;241;43m=\u001b[39;49m\u001b[43m \u001b[49m\u001b[43mmodel\u001b[49m\u001b[43m,\u001b[49m\u001b[43m \u001b[49m\u001b[43mloss_fn\u001b[49m\u001b[43m \u001b[49m\u001b[38;5;241;43m=\u001b[39;49m\u001b[43m \u001b[49m\u001b[43mloss_fn\u001b[49m\u001b[43m,\u001b[49m\u001b[43m \u001b[49m\u001b[43mtrain_loader\u001b[49m\u001b[43m \u001b[49m\u001b[38;5;241;43m=\u001b[39;49m\u001b[43m \u001b[49m\u001b[43mtrain_loader\u001b[49m\u001b[43m,\u001b[49m\u001b[43miter_num\u001b[49m\u001b[43m \u001b[49m\u001b[38;5;241;43m=\u001b[39;49m\u001b[43mi\u001b[49m\u001b[43m \u001b[49m\u001b[43m)\u001b[49m\n\u001b[0;32m     20\u001b[0m models_collection\u001b[38;5;241m.\u001b[39mappend(model)\n",
      "Cell \u001b[1;32mIn [28], line 11\u001b[0m, in \u001b[0;36mtraining_loop\u001b[1;34m(n_epochs, optimizer, model, loss_fn, train_loader, iter_num)\u001b[0m\n\u001b[0;32m      9\u001b[0m labels \u001b[38;5;241m=\u001b[39m labels\u001b[38;5;241m.\u001b[39mto (device \u001b[38;5;241m=\u001b[39m device)\n\u001b[0;32m     10\u001b[0m \u001b[38;5;66;03m# put a batch through the model\u001b[39;00m\n\u001b[1;32m---> 11\u001b[0m outputs \u001b[38;5;241m=\u001b[39m \u001b[43mmodel\u001b[49m\u001b[43m(\u001b[49m\u001b[43mimgs\u001b[49m\u001b[43m)\u001b[49m\n\u001b[0;32m     12\u001b[0m \u001b[38;5;66;03m# determine the loss\u001b[39;00m\n\u001b[0;32m     13\u001b[0m loss \u001b[38;5;241m=\u001b[39m loss_fn(outputs, labels)\n",
      "File \u001b[1;32m~\\anaconda3\\envs\\FromNov\\lib\\site-packages\\torch\\nn\\modules\\module.py:1110\u001b[0m, in \u001b[0;36mModule._call_impl\u001b[1;34m(self, *input, **kwargs)\u001b[0m\n\u001b[0;32m   1106\u001b[0m \u001b[38;5;66;03m# If we don't have any hooks, we want to skip the rest of the logic in\u001b[39;00m\n\u001b[0;32m   1107\u001b[0m \u001b[38;5;66;03m# this function, and just call forward.\u001b[39;00m\n\u001b[0;32m   1108\u001b[0m \u001b[38;5;28;01mif\u001b[39;00m \u001b[38;5;129;01mnot\u001b[39;00m (\u001b[38;5;28mself\u001b[39m\u001b[38;5;241m.\u001b[39m_backward_hooks \u001b[38;5;129;01mor\u001b[39;00m \u001b[38;5;28mself\u001b[39m\u001b[38;5;241m.\u001b[39m_forward_hooks \u001b[38;5;129;01mor\u001b[39;00m \u001b[38;5;28mself\u001b[39m\u001b[38;5;241m.\u001b[39m_forward_pre_hooks \u001b[38;5;129;01mor\u001b[39;00m _global_backward_hooks\n\u001b[0;32m   1109\u001b[0m         \u001b[38;5;129;01mor\u001b[39;00m _global_forward_hooks \u001b[38;5;129;01mor\u001b[39;00m _global_forward_pre_hooks):\n\u001b[1;32m-> 1110\u001b[0m     \u001b[38;5;28;01mreturn\u001b[39;00m \u001b[43mforward_call\u001b[49m\u001b[43m(\u001b[49m\u001b[38;5;241;43m*\u001b[39;49m\u001b[38;5;28;43minput\u001b[39;49m\u001b[43m,\u001b[49m\u001b[43m \u001b[49m\u001b[38;5;241;43m*\u001b[39;49m\u001b[38;5;241;43m*\u001b[39;49m\u001b[43mkwargs\u001b[49m\u001b[43m)\u001b[49m\n\u001b[0;32m   1111\u001b[0m \u001b[38;5;66;03m# Do not call functions when jit is used\u001b[39;00m\n\u001b[0;32m   1112\u001b[0m full_backward_hooks, non_full_backward_hooks \u001b[38;5;241m=\u001b[39m [], []\n",
      "Cell \u001b[1;32mIn [21], line 12\u001b[0m, in \u001b[0;36mNet.forward\u001b[1;34m(self, x)\u001b[0m\n\u001b[0;32m     11\u001b[0m \u001b[38;5;28;01mdef\u001b[39;00m \u001b[38;5;21mforward\u001b[39m(\u001b[38;5;28mself\u001b[39m, x):\n\u001b[1;32m---> 12\u001b[0m     out \u001b[38;5;241m=\u001b[39m \u001b[43mF\u001b[49m\u001b[38;5;241;43m.\u001b[39;49m\u001b[43mmax_pool2d\u001b[49m\u001b[43m(\u001b[49m\u001b[43mF\u001b[49m\u001b[38;5;241;43m.\u001b[39;49m\u001b[43mrelu\u001b[49m\u001b[43m(\u001b[49m\u001b[38;5;28;43mself\u001b[39;49m\u001b[38;5;241;43m.\u001b[39;49m\u001b[43mconv1\u001b[49m\u001b[43m(\u001b[49m\u001b[43mx\u001b[49m\u001b[43m)\u001b[49m\u001b[43m)\u001b[49m\u001b[43m,\u001b[49m\u001b[43m \u001b[49m\u001b[38;5;241;43m2\u001b[39;49m\u001b[43m)\u001b[49m\n\u001b[0;32m     13\u001b[0m     out \u001b[38;5;241m=\u001b[39m F\u001b[38;5;241m.\u001b[39mmax_pool2d(F\u001b[38;5;241m.\u001b[39mrelu(\u001b[38;5;28mself\u001b[39m\u001b[38;5;241m.\u001b[39mconv2(out)), \u001b[38;5;241m2\u001b[39m)\n\u001b[0;32m     14\u001b[0m     out \u001b[38;5;241m=\u001b[39m out\u001b[38;5;241m.\u001b[39mview(\u001b[38;5;241m-\u001b[39m\u001b[38;5;241m1\u001b[39m, \u001b[38;5;241m8\u001b[39m \u001b[38;5;241m*\u001b[39m \u001b[38;5;241m8\u001b[39m \u001b[38;5;241m*\u001b[39m \u001b[38;5;241m8\u001b[39m)\n",
      "File \u001b[1;32m~\\anaconda3\\envs\\FromNov\\lib\\site-packages\\torch\\_jit_internal.py:422\u001b[0m, in \u001b[0;36mboolean_dispatch.<locals>.fn\u001b[1;34m(*args, **kwargs)\u001b[0m\n\u001b[0;32m    420\u001b[0m     \u001b[38;5;28;01mreturn\u001b[39;00m if_true(\u001b[38;5;241m*\u001b[39margs, \u001b[38;5;241m*\u001b[39m\u001b[38;5;241m*\u001b[39mkwargs)\n\u001b[0;32m    421\u001b[0m \u001b[38;5;28;01melse\u001b[39;00m:\n\u001b[1;32m--> 422\u001b[0m     \u001b[38;5;28;01mreturn\u001b[39;00m \u001b[43mif_false\u001b[49m\u001b[43m(\u001b[49m\u001b[38;5;241;43m*\u001b[39;49m\u001b[43margs\u001b[49m\u001b[43m,\u001b[49m\u001b[43m \u001b[49m\u001b[38;5;241;43m*\u001b[39;49m\u001b[38;5;241;43m*\u001b[39;49m\u001b[43mkwargs\u001b[49m\u001b[43m)\u001b[49m\n",
      "File \u001b[1;32m~\\anaconda3\\envs\\FromNov\\lib\\site-packages\\torch\\nn\\functional.py:797\u001b[0m, in \u001b[0;36m_max_pool2d\u001b[1;34m(input, kernel_size, stride, padding, dilation, ceil_mode, return_indices)\u001b[0m\n\u001b[0;32m    795\u001b[0m \u001b[38;5;28;01mif\u001b[39;00m stride \u001b[38;5;129;01mis\u001b[39;00m \u001b[38;5;28;01mNone\u001b[39;00m:\n\u001b[0;32m    796\u001b[0m     stride \u001b[38;5;241m=\u001b[39m torch\u001b[38;5;241m.\u001b[39mjit\u001b[38;5;241m.\u001b[39mannotate(List[\u001b[38;5;28mint\u001b[39m], [])\n\u001b[1;32m--> 797\u001b[0m \u001b[38;5;28;01mreturn\u001b[39;00m \u001b[43mtorch\u001b[49m\u001b[38;5;241;43m.\u001b[39;49m\u001b[43mmax_pool2d\u001b[49m\u001b[43m(\u001b[49m\u001b[38;5;28;43minput\u001b[39;49m\u001b[43m,\u001b[49m\u001b[43m \u001b[49m\u001b[43mkernel_size\u001b[49m\u001b[43m,\u001b[49m\u001b[43m \u001b[49m\u001b[43mstride\u001b[49m\u001b[43m,\u001b[49m\u001b[43m \u001b[49m\u001b[43mpadding\u001b[49m\u001b[43m,\u001b[49m\u001b[43m \u001b[49m\u001b[43mdilation\u001b[49m\u001b[43m,\u001b[49m\u001b[43m \u001b[49m\u001b[43mceil_mode\u001b[49m\u001b[43m)\u001b[49m\n",
      "\u001b[1;31mKeyboardInterrupt\u001b[0m: "
     ]
    }
   ],
   "source": [
    "models_collection = []\n",
    "for i in range(20):\n",
    "    \n",
    "    seed_int =random.randint(0, 1000) # creating random seed values for the  different datasets\n",
    "    torch.manual_seed(seed_int)\n",
    "    train_loader = torch.utils.data.DataLoader(cifar2, batch_size=64,\n",
    "                                           shuffle=True)\n",
    "\n",
    "    # get the model and put it onto the proper device\n",
    "    model = Net().to(device=device)\n",
    "    # standard optimizer \n",
    "    optimizer = optim.Adam(model.parameters(), lr=1e-4) \n",
    "    # classification loss\n",
    "    loss_fn = nn.CrossEntropyLoss()\n",
    "\n",
    "    # go for 100 epochs\n",
    "    training_loop(n_epochs = 100, optimizer = optimizer, model = model, loss_fn = loss_fn, train_loader = train_loader,iter_num =i )\n",
    "    \n",
    "\n",
    "    models_collection.append(model)"
   ]
  },
  {
   "cell_type": "code",
   "execution_count": null,
   "metadata": {},
   "outputs": [],
   "source": [
    "for i, m in enumerate(models_collection):\n",
    "    torch.save(m.state_dict(), f\"birds_vs_airplanes{i}.pth\")"
   ]
  },
  {
   "cell_type": "code",
   "execution_count": null,
   "metadata": {},
   "outputs": [],
   "source": []
  }
 ],
 "metadata": {
  "accelerator": "GPU",
  "colab": {
   "provenance": []
  },
  "gpuClass": "standard",
  "kernelspec": {
   "display_name": "Python 3 (ipykernel)",
   "language": "python",
   "name": "python3"
  },
  "language_info": {
   "codemirror_mode": {
    "name": "ipython",
    "version": 3
   },
   "file_extension": ".py",
   "mimetype": "text/x-python",
   "name": "python",
   "nbconvert_exporter": "python",
   "pygments_lexer": "ipython3",
   "version": "3.8.13"
  },
  "widgets": {
   "application/vnd.jupyter.widget-state+json": {
    "284bd86b5c114c8fb3d460e168056250": {
     "model_module": "@jupyter-widgets/controls",
     "model_module_version": "1.5.0",
     "model_name": "HBoxModel",
     "state": {
      "_dom_classes": [],
      "_model_module": "@jupyter-widgets/controls",
      "_model_module_version": "1.5.0",
      "_model_name": "HBoxModel",
      "_view_count": null,
      "_view_module": "@jupyter-widgets/controls",
      "_view_module_version": "1.5.0",
      "_view_name": "HBoxView",
      "box_style": "",
      "children": [
       "IPY_MODEL_352dfda91b0143868fa51ca5e68464e4",
       "IPY_MODEL_784b3d86676d4958987d3e753e6b7956",
       "IPY_MODEL_d1be312cfac948b8a35028396277bf18"
      ],
      "layout": "IPY_MODEL_8b89e11329d0497390cb3028d718f4ff"
     }
    },
    "352dfda91b0143868fa51ca5e68464e4": {
     "model_module": "@jupyter-widgets/controls",
     "model_module_version": "1.5.0",
     "model_name": "HTMLModel",
     "state": {
      "_dom_classes": [],
      "_model_module": "@jupyter-widgets/controls",
      "_model_module_version": "1.5.0",
      "_model_name": "HTMLModel",
      "_view_count": null,
      "_view_module": "@jupyter-widgets/controls",
      "_view_module_version": "1.5.0",
      "_view_name": "HTMLView",
      "description": "",
      "description_tooltip": null,
      "layout": "IPY_MODEL_9522e120193144b1bf8fef9b1e835378",
      "placeholder": "​",
      "style": "IPY_MODEL_764e1cdd37be45c687d1e4391819190b",
      "value": "100%"
     }
    },
    "3a86d3a526a9477389499cb02efe6d23": {
     "model_module": "@jupyter-widgets/controls",
     "model_module_version": "1.5.0",
     "model_name": "ProgressStyleModel",
     "state": {
      "_model_module": "@jupyter-widgets/controls",
      "_model_module_version": "1.5.0",
      "_model_name": "ProgressStyleModel",
      "_view_count": null,
      "_view_module": "@jupyter-widgets/base",
      "_view_module_version": "1.2.0",
      "_view_name": "StyleView",
      "bar_color": null,
      "description_width": ""
     }
    },
    "5534ad73a843429ba70fe0a8144897d1": {
     "model_module": "@jupyter-widgets/base",
     "model_module_version": "1.2.0",
     "model_name": "LayoutModel",
     "state": {
      "_model_module": "@jupyter-widgets/base",
      "_model_module_version": "1.2.0",
      "_model_name": "LayoutModel",
      "_view_count": null,
      "_view_module": "@jupyter-widgets/base",
      "_view_module_version": "1.2.0",
      "_view_name": "LayoutView",
      "align_content": null,
      "align_items": null,
      "align_self": null,
      "border": null,
      "bottom": null,
      "display": null,
      "flex": null,
      "flex_flow": null,
      "grid_area": null,
      "grid_auto_columns": null,
      "grid_auto_flow": null,
      "grid_auto_rows": null,
      "grid_column": null,
      "grid_gap": null,
      "grid_row": null,
      "grid_template_areas": null,
      "grid_template_columns": null,
      "grid_template_rows": null,
      "height": null,
      "justify_content": null,
      "justify_items": null,
      "left": null,
      "margin": null,
      "max_height": null,
      "max_width": null,
      "min_height": null,
      "min_width": null,
      "object_fit": null,
      "object_position": null,
      "order": null,
      "overflow": null,
      "overflow_x": null,
      "overflow_y": null,
      "padding": null,
      "right": null,
      "top": null,
      "visibility": null,
      "width": null
     }
    },
    "764e1cdd37be45c687d1e4391819190b": {
     "model_module": "@jupyter-widgets/controls",
     "model_module_version": "1.5.0",
     "model_name": "DescriptionStyleModel",
     "state": {
      "_model_module": "@jupyter-widgets/controls",
      "_model_module_version": "1.5.0",
      "_model_name": "DescriptionStyleModel",
      "_view_count": null,
      "_view_module": "@jupyter-widgets/base",
      "_view_module_version": "1.2.0",
      "_view_name": "StyleView",
      "description_width": ""
     }
    },
    "784b3d86676d4958987d3e753e6b7956": {
     "model_module": "@jupyter-widgets/controls",
     "model_module_version": "1.5.0",
     "model_name": "FloatProgressModel",
     "state": {
      "_dom_classes": [],
      "_model_module": "@jupyter-widgets/controls",
      "_model_module_version": "1.5.0",
      "_model_name": "FloatProgressModel",
      "_view_count": null,
      "_view_module": "@jupyter-widgets/controls",
      "_view_module_version": "1.5.0",
      "_view_name": "ProgressView",
      "bar_style": "success",
      "description": "",
      "description_tooltip": null,
      "layout": "IPY_MODEL_5534ad73a843429ba70fe0a8144897d1",
      "max": 170498071,
      "min": 0,
      "orientation": "horizontal",
      "style": "IPY_MODEL_3a86d3a526a9477389499cb02efe6d23",
      "value": 170498071
     }
    },
    "8b89e11329d0497390cb3028d718f4ff": {
     "model_module": "@jupyter-widgets/base",
     "model_module_version": "1.2.0",
     "model_name": "LayoutModel",
     "state": {
      "_model_module": "@jupyter-widgets/base",
      "_model_module_version": "1.2.0",
      "_model_name": "LayoutModel",
      "_view_count": null,
      "_view_module": "@jupyter-widgets/base",
      "_view_module_version": "1.2.0",
      "_view_name": "LayoutView",
      "align_content": null,
      "align_items": null,
      "align_self": null,
      "border": null,
      "bottom": null,
      "display": null,
      "flex": null,
      "flex_flow": null,
      "grid_area": null,
      "grid_auto_columns": null,
      "grid_auto_flow": null,
      "grid_auto_rows": null,
      "grid_column": null,
      "grid_gap": null,
      "grid_row": null,
      "grid_template_areas": null,
      "grid_template_columns": null,
      "grid_template_rows": null,
      "height": null,
      "justify_content": null,
      "justify_items": null,
      "left": null,
      "margin": null,
      "max_height": null,
      "max_width": null,
      "min_height": null,
      "min_width": null,
      "object_fit": null,
      "object_position": null,
      "order": null,
      "overflow": null,
      "overflow_x": null,
      "overflow_y": null,
      "padding": null,
      "right": null,
      "top": null,
      "visibility": null,
      "width": null
     }
    },
    "9522e120193144b1bf8fef9b1e835378": {
     "model_module": "@jupyter-widgets/base",
     "model_module_version": "1.2.0",
     "model_name": "LayoutModel",
     "state": {
      "_model_module": "@jupyter-widgets/base",
      "_model_module_version": "1.2.0",
      "_model_name": "LayoutModel",
      "_view_count": null,
      "_view_module": "@jupyter-widgets/base",
      "_view_module_version": "1.2.0",
      "_view_name": "LayoutView",
      "align_content": null,
      "align_items": null,
      "align_self": null,
      "border": null,
      "bottom": null,
      "display": null,
      "flex": null,
      "flex_flow": null,
      "grid_area": null,
      "grid_auto_columns": null,
      "grid_auto_flow": null,
      "grid_auto_rows": null,
      "grid_column": null,
      "grid_gap": null,
      "grid_row": null,
      "grid_template_areas": null,
      "grid_template_columns": null,
      "grid_template_rows": null,
      "height": null,
      "justify_content": null,
      "justify_items": null,
      "left": null,
      "margin": null,
      "max_height": null,
      "max_width": null,
      "min_height": null,
      "min_width": null,
      "object_fit": null,
      "object_position": null,
      "order": null,
      "overflow": null,
      "overflow_x": null,
      "overflow_y": null,
      "padding": null,
      "right": null,
      "top": null,
      "visibility": null,
      "width": null
     }
    },
    "d1be312cfac948b8a35028396277bf18": {
     "model_module": "@jupyter-widgets/controls",
     "model_module_version": "1.5.0",
     "model_name": "HTMLModel",
     "state": {
      "_dom_classes": [],
      "_model_module": "@jupyter-widgets/controls",
      "_model_module_version": "1.5.0",
      "_model_name": "HTMLModel",
      "_view_count": null,
      "_view_module": "@jupyter-widgets/controls",
      "_view_module_version": "1.5.0",
      "_view_name": "HTMLView",
      "description": "",
      "description_tooltip": null,
      "layout": "IPY_MODEL_e54c45c8dc794ca284eceaf71eac04d6",
      "placeholder": "​",
      "style": "IPY_MODEL_fbcaabe6f6dc4cd2ab0e76836b6b82e1",
      "value": " 170498071/170498071 [00:14&lt;00:00, 13330389.62it/s]"
     }
    },
    "e54c45c8dc794ca284eceaf71eac04d6": {
     "model_module": "@jupyter-widgets/base",
     "model_module_version": "1.2.0",
     "model_name": "LayoutModel",
     "state": {
      "_model_module": "@jupyter-widgets/base",
      "_model_module_version": "1.2.0",
      "_model_name": "LayoutModel",
      "_view_count": null,
      "_view_module": "@jupyter-widgets/base",
      "_view_module_version": "1.2.0",
      "_view_name": "LayoutView",
      "align_content": null,
      "align_items": null,
      "align_self": null,
      "border": null,
      "bottom": null,
      "display": null,
      "flex": null,
      "flex_flow": null,
      "grid_area": null,
      "grid_auto_columns": null,
      "grid_auto_flow": null,
      "grid_auto_rows": null,
      "grid_column": null,
      "grid_gap": null,
      "grid_row": null,
      "grid_template_areas": null,
      "grid_template_columns": null,
      "grid_template_rows": null,
      "height": null,
      "justify_content": null,
      "justify_items": null,
      "left": null,
      "margin": null,
      "max_height": null,
      "max_width": null,
      "min_height": null,
      "min_width": null,
      "object_fit": null,
      "object_position": null,
      "order": null,
      "overflow": null,
      "overflow_x": null,
      "overflow_y": null,
      "padding": null,
      "right": null,
      "top": null,
      "visibility": null,
      "width": null
     }
    },
    "fbcaabe6f6dc4cd2ab0e76836b6b82e1": {
     "model_module": "@jupyter-widgets/controls",
     "model_module_version": "1.5.0",
     "model_name": "DescriptionStyleModel",
     "state": {
      "_model_module": "@jupyter-widgets/controls",
      "_model_module_version": "1.5.0",
      "_model_name": "DescriptionStyleModel",
      "_view_count": null,
      "_view_module": "@jupyter-widgets/base",
      "_view_module_version": "1.2.0",
      "_view_name": "StyleView",
      "description_width": ""
     }
    }
   }
  }
 },
 "nbformat": 4,
 "nbformat_minor": 1
}
